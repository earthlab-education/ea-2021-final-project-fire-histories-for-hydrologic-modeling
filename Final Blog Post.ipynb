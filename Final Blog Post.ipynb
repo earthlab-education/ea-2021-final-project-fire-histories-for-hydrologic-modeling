{
 "cells": [
  {
   "cell_type": "markdown",
   "id": "important-supplier",
   "metadata": {},
   "source": [
    "# Fire Histories for Hydrologic Modeling\n",
    "## Group members: Jen Kraft and Merielle Redwine\n",
    "\n",
    "### Instructions:\n",
    "All data figures in your blog post should be generated using Python code in Jupyter Notebook. You can of course add other images as you need to - to the notebook to make your blog more interesting.\n",
    "\n",
    "### Your report should:\n",
    "\n",
    "Reference other efforts on this topic area (this could be presented as links given it is a blog).\n",
    "Be at least 2-3 pages of text in length (~700 words). We won't be counting words; we simply want you to create a robust blog post that describes what you did and what you found.\n",
    "Highlight your study area. HINT: Contextily could be used to create a nice basemap! But since you are providing a notebook, you could also create a nice interactive map.\n",
    "Provide an overview of the data used with sources referenced. Note that the data sources should be described in your text. If it does not fit into your blog post you can cite the data in a short references section at the end of your blog post.\n",
    "Provide a high level overview of the methods used to process the data. Because this is a blog post, your overview should not be technical. your code should be well documented and expressive so that it describes your process.\n",
    "Present results - at least 4 plots (graphics created using data) that answer the question that you decided to address or the phenomenon that you decided to explore using data.\n",
    "Include the code that you used to create maps and process any data used. Be sure to use expressive, efficient, modular coding. Also document your code as we have been discussing in class all semester! This means that all functions should have clear docstrings.\n",
    "IMPORTANT: Be sure to cite the data that you used in your project using the organizations preferred citation style. This citation could happen at the bottom of your post or in a figure caption!\n",
    "\n",
    "#### Questions to address in this assignment:\n",
    "\n",
    "1. Why your topic is important and why someone should care about it.\n",
    "2. What other work has been done in this area\n",
    "3. What your methods are. Note that your code should be expressive to provide a good overview of your workflow so you do not need to get into the nitty gritty details of the python steps that you applied.\n",
    "4. Summary / Conclusions: What you discovered about your topic  / question."
   ]
  },
  {
   "cell_type": "markdown",
   "id": "prostate-degree",
   "metadata": {},
   "source": [
    "### Issue/Questions:\n",
    "#### How can we aggregate heterogeneous fire effects data into meaningful statistics that represent a drainage unit for a watershed?\n",
    "#### Does the chemical signature of the landscape relate to drainages units for a watershed (i.e., functional process zones)?\n"
   ]
  },
  {
   "cell_type": "markdown",
   "id": "mighty-baptist",
   "metadata": {},
   "source": [
    "### Study Area:\n",
    "#### Russian River Watershed\n",
    "\n",
    "Code for study area map in cell below:"
   ]
  },
  {
   "cell_type": "code",
   "execution_count": null,
   "id": "referenced-denver",
   "metadata": {},
   "outputs": [],
   "source": [
    "## Insert Python code for study area map here:\n"
   ]
  },
  {
   "cell_type": "markdown",
   "id": "quality-factor",
   "metadata": {},
   "source": [
    "### Topic Importance:\n",
    "- Chemical signatures → Biodiversity\n",
    "- Existing methodologies:  \n",
    "- Functional process zones (FPZ’s)\n",
    "- Classification based on drainage units \n",
    "- Predicting life on other planets\n",
    "- Protecting local ecology and fire hazards\n",
    "\n",
    "Developing new methodologies for aggregating and interpreting existing data should prove useful for integration into process-based hydrologic models which could be used to predict how water will move across the landscape and how disturbance events are likely to impact the watershed and consequently the local ecology. This knowledge would ideally empower us after disturbance events to mitigate potential further damage before it occurs."
   ]
  },
  {
   "cell_type": "markdown",
   "id": "tired-lobby",
   "metadata": {},
   "source": [
    "#### What other work has been done in this area?\n",
    "Some parts of this project have already been completed or explored as separate concepts, but combining all parts of this data cohesively, in this way, is new. (ie; Fire histories have extensively been explored, and Functional Process Zones have been defined based on topological data, and chemical layers in soil have been explored, but the data has never been combined or cross-referenced to look for correlations and implications that could redefine FPZ's, and/or lead to new insights pertaining to how the post-effects of fires impact the watershed, soil, and resultingly the biodiversity of an ecosystem.\n",
    "\n",
    "Existing work on defining \"Traditional\" FPZs: https://doi.org/10.1002/rra.3557 \n"
   ]
  },
  {
   "cell_type": "markdown",
   "id": "virgin-thursday",
   "metadata": {},
   "source": [
    "#### Methods/Approach:\n",
    "\n",
    "#### Workflow:\n",
    "- Get data (topography, AVIRIS trait data, FPZ) and open it\n",
    "    - Map rotation\n",
    "- Subset based on shapefile over russian river basin  \n",
    "    - (https://drive.google.com/drive/u/0/folders/1jfn5OoUzdvN8KNuiY9iO1U9lKycXwfl_) \n",
    "- Focus on only: LMA, N, Non-struc Carbhydrates, Lignen, C, Canopy water\n",
    "- Mosaic the flightline data into a single geotiff (xarray/rio/gdal)\n",
    "- Subset for clean image and smaller data\n",
    "- Based on artifacts in mosaic and based on the drainage shapefile\n",
    "- Stack the mosaics together based on geolocation\n",
    "- K-means clustering (https://scikit-learn.org/stable/modules/generated/sklearn.cluster.KMeans.html)\n",
    "- Correspondence analysis comparing K-means cluster to FPZ\n",
    "    - Example of Correspondence Analysis: https://www.displayr.com/how-correspondence-analysis-works/ \n",
    "- Exploratory analysis to test assumptions\n",
    "- Confusion matrix to compare categorical clusters \n",
    "- Statistics of clusters\n",
    "\n",
    "\n",
    "\n",
    "\n",
    "\n",
    "\n"
   ]
  },
  {
   "cell_type": "markdown",
   "id": "valued-factor",
   "metadata": {},
   "source": [
    "### Samples of our code in the following cells:\n",
    "\n",
    "#### Pseudocode workflow write-up:"
   ]
  },
  {
   "cell_type": "code",
   "execution_count": null,
   "id": "subsequent-census",
   "metadata": {},
   "outputs": [],
   "source": [
    "#AVIRIS data\n",
    "\n",
    "# Data source (zip file in Google Drive): https://drive.google.com/file/d/1jzKYkkuSR2iVLgtSrE0SLl-DOEw55sSW/view?usp=sharing\n",
    "\n",
    "#Pseudocode write up for first phase:\n",
    "\n",
    "#Open and unzip data\n",
    "#Select chemical layer \n",
    "#Clip data (each file may need to be clipped individually)\n",
    "#Mosaic together in order that makes visual sense and eliminates artifacts\n",
    "#Repeat for each chemical layer (approx 16 times. Merielle will complete half and Jen will complete half)\n",
    "\n",
    "#Proceed to next step in workflow"
   ]
  },
  {
   "cell_type": "markdown",
   "id": "thousand-colon",
   "metadata": {},
   "source": [
    "#### Code for data processing and figure for Nitrogen chemical map in cell below:"
   ]
  },
  {
   "cell_type": "code",
   "execution_count": null,
   "id": "undefined-serial",
   "metadata": {},
   "outputs": [],
   "source": []
  },
  {
   "cell_type": "markdown",
   "id": "superb-perry",
   "metadata": {},
   "source": [
    "#### Code for [ describe action] for [describe product of code] in cell below:"
   ]
  },
  {
   "cell_type": "code",
   "execution_count": null,
   "id": "broken-punishment",
   "metadata": {},
   "outputs": [],
   "source": []
  },
  {
   "cell_type": "markdown",
   "id": "certain-electronics",
   "metadata": {},
   "source": [
    "### Summary/Conclusions:"
   ]
  },
  {
   "cell_type": "markdown",
   "id": "hidden-synthesis",
   "metadata": {},
   "source": [
    "We won't have any conclusions until we process and combine all layers and can perform analysis on the results.\n",
    "\n",
    "For now, our next steps moving into the summer session are as follows:\n",
    "\n",
    "- Ordering of flight path files in mosaic\n",
    "    - Rearrange list of file paths before using merge function/command\n",
    "- Stack all chemical layers using appropriate python library \n",
    "    - Some options\n",
    "        - np.dstack()\n",
    "        - xr.concat()\n",
    "- Start researching how k-means clustering works with multiple layers \n"
   ]
  }
 ],
 "metadata": {
  "kernelspec": {
   "display_name": "Python 3",
   "language": "python",
   "name": "python3"
  },
  "language_info": {
   "codemirror_mode": {
    "name": "ipython",
    "version": 3
   },
   "file_extension": ".py",
   "mimetype": "text/x-python",
   "name": "python",
   "nbconvert_exporter": "python",
   "pygments_lexer": "ipython3",
   "version": "3.8.8"
  }
 },
 "nbformat": 4,
 "nbformat_minor": 5
}
