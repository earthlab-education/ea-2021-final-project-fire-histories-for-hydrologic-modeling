{
  "nbformat": 4,
  "nbformat_minor": 0,
  "metadata": {
    "colab": {
      "name": "gc_final_stack.ipynb",
      "provenance": [],
      "collapsed_sections": []
    },
    "kernelspec": {
      "name": "python3",
      "display_name": "Python 3"
    },
    "language_info": {
      "name": "python"
    }
  },
  "cells": [
    {
      "cell_type": "code",
      "metadata": {
        "colab": {
          "base_uri": "https://localhost:8080/"
        },
        "id": "IPdGbkXHy7kB",
        "outputId": "ef4796ab-010a-4a59-dd65-bab16d5ff588"
      },
      "source": [
        "# Mount data from drive\n",
        "from google.colab import drive\n",
        "drive.mount('/content/drive')"
      ],
      "execution_count": 1,
      "outputs": [
        {
          "output_type": "stream",
          "text": [
            "Drive already mounted at /content/drive; to attempt to forcibly remount, call drive.mount(\"/content/drive\", force_remount=True).\n"
          ],
          "name": "stdout"
        }
      ]
    },
    {
      "cell_type": "code",
      "metadata": {
        "id": "WNw7PWTczjt3"
      },
      "source": [
        "# Install packages not included in the colab default environment\n",
        "%%capture\n",
        "%pip install geopandas\n",
        "%pip install earthpy as et\n",
        "!pip install \"rioxarray==0.3.1\"\n",
        "!pip install \"xarray==0.18.2\""
      ],
      "execution_count": 2,
      "outputs": []
    },
    {
      "cell_type": "code",
      "metadata": {
        "id": "ZSIXgRRRzpTX"
      },
      "source": [
        "import matplotlib.pyplot as plt\n",
        "import geopandas as gpd\n",
        "import fiona\n",
        "import glob\n",
        "import os\n",
        "import earthpy.spatial as es\n",
        "import earthpy.plot as ep\n",
        "import rasterio as rio\n",
        "import rioxarray as rxr\n",
        "import xarray as xr"
      ],
      "execution_count": 3,
      "outputs": []
    },
    {
      "cell_type": "code",
      "metadata": {
        "id": "I3Wp1f4hz234"
      },
      "source": [
        "# Path to Geotiffs of chemical traits\n",
        "geotiffs_path = \"/content/drive/MyDrive/GeoTiff/\"\n"
      ],
      "execution_count": 4,
      "outputs": []
    },
    {
      "cell_type": "code",
      "metadata": {
        "id": "EmSAGKZyGQ7Z"
      },
      "source": [
        "# Prepare layers to be stacked using glob and sort\n",
        "\n",
        "layers_data_path = \"/content/drive/MyDrive/GeoTiff/*.tif\"\n",
        "stack_band_paths = glob.glob(layers_data_path)\n",
        "stack_band_paths.sort()\n",
        "\n",
        "# Create output directory and the output path\n",
        "\n",
        "output_dir = \"/content/drive/MyDrive/outputs_watersheds/\"\n",
        "if os.path.isdir(output_dir) == False:\n",
        "    os.mkdir(output_dir)\n",
        "\n",
        "raster_out_path = os.path.join(output_dir, \"raster.tiff\")"
      ],
      "execution_count": 5,
      "outputs": []
    },
    {
      "cell_type": "code",
      "metadata": {
        "id": "34ZvRj0WFF2z"
      },
      "source": [
        "#Define function for opening with rioxarray \n",
        "\n",
        "def open_clean_bands(band_path,\n",
        "                     crop_bound,\n",
        "                     valid_range=None,\n",
        "                     variable=None):\n",
        "    # YOUR CODE HERE\n",
        "\n",
        "    \"\"\"Open and clean a single landsat band .\n",
        "\n",
        "    Parameters\n",
        "    -----------\n",
        "    band_path:string A path to the array to be opened\n",
        "    crop_bound:geopandas GeoDataFrame\n",
        "    A geopandas dataframe to be used to crop the raster data using rioxarray clip().\n",
        "    valid_range:tuple (optional)\n",
        "     A tuple of min and max range of values for the data. Default = None\n",
        "\n",
        "    Returns\n",
        "    -----------\n",
        "     band : xarray DataArray\n",
        "        An xarray DataArray clipped to a crop boundary and masked if a range is given\n",
        "    \"\"\"\n",
        "\n",
        "    crop_bound_box = [box(*crop_bound.bounds.loc[0])]\n",
        "\n",
        "    try:\n",
        "        band = rxr.open_rasterio(band_path,\n",
        "                                 masked=True,\n",
        "                                 variable=variable, \n",
        "                                 parse_coordinates=False).rio.clip(crop_bound_box,\n",
        "                                                             all_touched=True,\n",
        "                                                             from_disk=True).squeeze()\n",
        "    except:\n",
        "        raise ValueError(\n",
        "            \"Oops - I couldn't clip your data. This may be due to a crs error.\")\n",
        "\n",
        "    # Only mask the data to the valid range if a valid range tuple is provided\n",
        "    if valid_range is not None:\n",
        "        mask = ((band < valid_range[0]) | (band > valid_range[1]))\n",
        "        band = band.where(~xr.where(mask, True, False))\n",
        "\n",
        "    return band\n",
        "\n",
        "#Define combine tif function\n",
        "def combine_tifs(tif_list):\n",
        "    \"\"\"A function that combines a list of tifs in the same CRS\n",
        "    and of the same extent into an xarray object\n",
        "\n",
        "    Parameters\n",
        "    ----------\n",
        "    tif_list : list\n",
        "        A list of paths to the tif files that you wish to combine.\n",
        "        \n",
        "    Returns\n",
        "    -------\n",
        "    An xarray object with all of the tif files in the listmerged into \n",
        "    a single object.\n",
        "\n",
        "    \"\"\"\n",
        "\n",
        "    out_xr=[]\n",
        "    for i, tif_path in enumerate(tif_list):\n",
        "        out_xr.append(rxr.open_rasterio(tif_path, masked=True)[1].squeeze())\n",
        "        \n",
        "        out_xr[i][\"band\"]=i+1\n",
        "    (out_xr,) = xr.broadcast(*out_xr)\n",
        "    \n",
        "    return xr.concat(out_xr, dim=\"band\") \n"
      ],
      "execution_count": 6,
      "outputs": []
    },
    {
      "cell_type": "code",
      "metadata": {
        "id": "Ov9va0Mfcmt5"
      },
      "source": [
        "# Define path to shape file of boundary crop\n",
        "rr_watershed_boundary_path = os.path.join(\"GeoTiff\",\n",
        "                                          \"RR_HU8\",\n",
        "                                          \"RR_HU8_polygon.shp\")"
      ],
      "execution_count": 7,
      "outputs": []
    },
    {
      "cell_type": "code",
      "metadata": {
        "colab": {
          "base_uri": "https://localhost:8080/",
          "height": 166
        },
        "id": "QaHeyxa4Gjik",
        "outputId": "b09297ac-6e53-46e7-e06f-2b20ad738628"
      },
      "source": [
        "final_stack = open_clean_bands(stack_band_paths)\n"
      ],
      "execution_count": 8,
      "outputs": [
        {
          "output_type": "error",
          "ename": "TypeError",
          "evalue": "ignored",
          "traceback": [
            "\u001b[0;31m---------------------------------------------------------------------------\u001b[0m",
            "\u001b[0;31mTypeError\u001b[0m                                 Traceback (most recent call last)",
            "\u001b[0;32m<ipython-input-8-a72b873dc551>\u001b[0m in \u001b[0;36m<module>\u001b[0;34m()\u001b[0m\n\u001b[0;32m----> 1\u001b[0;31m \u001b[0mfinal_stack\u001b[0m \u001b[0;34m=\u001b[0m \u001b[0mopen_clean_bands\u001b[0m\u001b[0;34m(\u001b[0m\u001b[0mstack_band_paths\u001b[0m\u001b[0;34m)\u001b[0m\u001b[0;34m\u001b[0m\u001b[0;34m\u001b[0m\u001b[0m\n\u001b[0m",
            "\u001b[0;31mTypeError\u001b[0m: open_clean_bands() missing 1 required positional argument: 'crop_bound'"
          ]
        }
      ]
    }
  ]
}