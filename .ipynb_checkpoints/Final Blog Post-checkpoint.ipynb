{
 "cells": [
  {
   "cell_type": "markdown",
   "id": "english-circumstances",
   "metadata": {},
   "source": [
    "# Fire Histories for Hydrologic Modeling\n",
    "## Group members: Jen Kraft and Merielle Redwine\n",
    "\n",
    "### Instructions:\n",
    "All data figures in your blog post should be generated using Python code in Jupyter Notebook. You can of course add other images as you need to - to the notebook to make your blog more interesting.\n",
    "\n",
    "### Your report should:\n",
    "\n",
    "Reference other efforts on this topic area (this could be presented as links given it is a blog).\n",
    "Be at least 2-3 pages of text in length (~700 words). We won't be counting words; we simply want you to create a robust blog post that describes what you did and what you found.\n",
    "Highlight your study area. HINT: Contextily could be used to create a nice basemap! But since you are providing a notebook, you could also create a nice interactive map.\n",
    "Provide an overview of the data used with sources referenced. Note that the data sources should be described in your text. If it does not fit into your blog post you can cite the data in a short references section at the end of your blog post.\n",
    "Provide a high level overview of the methods used to process the data. Because this is a blog post, your overview should not be technical. your code should be well documented and expressive so that it describes your process.\n",
    "Present results - at least 4 plots (graphics created using data) that answer the question that you decided to address or the phenomenon that you decided to explore using data.\n",
    "Include the code that you used to create maps and process any data used. Be sure to use expressive, efficient, modular coding. Also document your code as we have been discussing in class all semester! This means that all functions should have clear docstrings.\n",
    "IMPORTANT: Be sure to cite the data that you used in your project using the organizations preferred citation style. This citation could happen at the bottom of your post or in a figure caption!\n",
    "\n",
    "#### Questions to address in this assignment:\n",
    "\n",
    "1. Why your topic is important and why someone should care about it.\n",
    "2. What other work has been done in this area\n",
    "3. What your methods are. Note that your code should be expressive to provide a good overview of your workflow so you do not need to get into the nitty gritty details of the python steps that you applied.\n",
    "4. Summary / Conclusions: What you discovered about your topic  / question."
   ]
  },
  {
   "cell_type": "markdown",
   "id": "subtle-sample",
   "metadata": {},
   "source": [
    "### Issue/Question:\n",
    "#### How can we aggregate heterogeneous fire effects data into meaningful statistics that represent a drainage unit for a watershed?\n",
    "\n",
    "    \n",
    "### Topic Importance:\n",
    "- Chemical signatures → Biodiversity\n",
    "- Existing methodologies:  \n",
    "- Functional process zones (FPZ’s)\n",
    "- Classification based on drainage units \n",
    "- Predicting life on other planets\n",
    "- Protecting local ecology and fire hazards\n",
    "\n",
    "Developing new methodologies for aggregating and interpreting existing data should prove useful for integration into process-based hydrologic models which could be used to predict how water will move across the landscape and how disturbance events are likely to impact the watershed and consequently the local ecology. This knowledge would ideally empower us after disturbance events to mitigate potential further damage before it occurs.\n"
   ]
  },
  {
   "cell_type": "markdown",
   "id": "normal-farmer",
   "metadata": {},
   "source": [
    "#### What other work has been done in this area?\n",
    "Some parts of the relevant research on this project has already been done, and some of it has been looked at in chunks before, but as I understand it, the effort to explore in these specific new ways, and to combine all parts of this data cohesively, in this way, is new."
   ]
  },
  {
   "cell_type": "code",
   "execution_count": null,
   "id": "accredited-florida",
   "metadata": {},
   "outputs": [],
   "source": [
    "### Methods/Approach:"
   ]
  },
  {
   "cell_type": "code",
   "execution_count": null,
   "id": "reflected-cooperation",
   "metadata": {},
   "outputs": [],
   "source": [
    "### Summary/Conclusions:"
   ]
  }
 ],
 "metadata": {
  "kernelspec": {
   "display_name": "Python 3",
   "language": "python",
   "name": "python3"
  },
  "language_info": {
   "codemirror_mode": {
    "name": "ipython",
    "version": 3
   },
   "file_extension": ".py",
   "mimetype": "text/x-python",
   "name": "python",
   "nbconvert_exporter": "python",
   "pygments_lexer": "ipython3",
   "version": "3.8.8"
  }
 },
 "nbformat": 4,
 "nbformat_minor": 5
}
